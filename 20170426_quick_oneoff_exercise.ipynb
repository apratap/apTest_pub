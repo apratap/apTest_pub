{
 "cells": [
  {
   "cell_type": "code",
   "execution_count": 1,
   "metadata": {
    "collapsed": true
   },
   "outputs": [],
   "source": [
    "import numpy as np"
   ]
  },
  {
   "cell_type": "markdown",
   "metadata": {},
   "source": [
    "### Sort a list like this\n",
    "[4,6,7,2,0,0,3,5] ==> [0,0, 4,6,7,2,3,5]"
   ]
  },
  {
   "cell_type": "code",
   "execution_count": 7,
   "metadata": {
    "collapsed": false
   },
   "outputs": [
    {
     "data": {
      "text/plain": [
       "array([ 0.34349502,  0.96721463,  0.07346353,  0.78713699,  0.81022793,\n",
       "        0.01484237,  0.23400582,  0.77728297,  0.51340934,  0.08976845])"
      ]
     },
     "execution_count": 7,
     "metadata": {},
     "output_type": "execute_result"
    }
   ],
   "source": [
    "#create a list\n",
    "l1 = np.random.rand(10)\n",
    "l1"
   ]
  },
  {
   "cell_type": "code",
   "execution_count": 8,
   "metadata": {
    "collapsed": false
   },
   "outputs": [],
   "source": [
    "#insert zeros randomly \n",
    "l1[l1 < .10] = 0"
   ]
  },
  {
   "cell_type": "code",
   "execution_count": 9,
   "metadata": {
    "collapsed": false
   },
   "outputs": [
    {
     "name": "stdout",
     "output_type": "stream",
     "text": [
      "[ 0.34349502  0.96721463  0.          0.78713699  0.81022793  0.\n",
      "  0.23400582  0.77728297  0.51340934  0.        ]\n"
     ]
    }
   ],
   "source": [
    "print(l1)"
   ]
  },
  {
   "cell_type": "markdown",
   "metadata": {},
   "source": [
    "### Sort - Method 1 // Naive"
   ]
  },
  {
   "cell_type": "code",
   "execution_count": 10,
   "metadata": {
    "collapsed": false
   },
   "outputs": [
    {
     "name": "stdout",
     "output_type": "stream",
     "text": [
      "[0.0, 0.0, 0.0, 0.3434950200470881, 0.9672146335622851, 0.78713699352284772, 0.8102279267237098, 0.23400581584114422, 0.77728297197785989, 0.51340933569162095]\n"
     ]
    }
   ],
   "source": [
    "tmp_l1 = list()\n",
    "tmp_l2 = list()\n",
    "for i in l1:\n",
    "    if i != 0:\n",
    "        tmp_l1.append(i)\n",
    "    else:\n",
    "        tmp_l2.append(i)\n",
    "        \n",
    "#final list \n",
    "tmp_l2.extend(tmp_l1)\n",
    "print(tmp_l2)"
   ]
  },
  {
   "cell_type": "markdown",
   "metadata": {},
   "source": [
    "### Sort - Methdo 2 // Numpy way"
   ]
  },
  {
   "cell_type": "code",
   "execution_count": 11,
   "metadata": {
    "collapsed": false
   },
   "outputs": [
    {
     "data": {
      "text/plain": [
       "array([ 0.        ,  0.        ,  0.        ,  0.34349502,  0.96721463,\n",
       "        0.78713699,  0.81022793,  0.23400582,  0.77728297,  0.51340934])"
      ]
     },
     "execution_count": 11,
     "metadata": {},
     "output_type": "execute_result"
    }
   ],
   "source": [
    "np.append(l1[l1 == 0], l1[l1 != 0])"
   ]
  },
  {
   "cell_type": "code",
   "execution_count": null,
   "metadata": {
    "collapsed": true
   },
   "outputs": [],
   "source": []
  }
 ],
 "metadata": {
  "kernelspec": {
   "display_name": "Python [default]",
   "language": "python",
   "name": "python3"
  },
  "language_info": {
   "codemirror_mode": {
    "name": "ipython",
    "version": 3
   },
   "file_extension": ".py",
   "mimetype": "text/x-python",
   "name": "python",
   "nbconvert_exporter": "python",
   "pygments_lexer": "ipython3",
   "version": "3.5.2"
  }
 },
 "nbformat": 4,
 "nbformat_minor": 2
}
